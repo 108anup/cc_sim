{
 "cells": [
  {
   "cell_type": "code",
   "execution_count": 10,
   "metadata": {},
   "outputs": [],
   "source": [
    "from sympy import *\n",
    "init_printing()"
   ]
  },
  {
   "cell_type": "markdown",
   "metadata": {},
   "source": [
    "### Notation\n",
    "\n",
    "$d_q$: queuing delay\n",
    "\n",
    "$w$: congestion window\n",
    "\n",
    "$R_m$: minimum RTT (propagation delay)\n",
    "\n",
    "$\\mu$: link rate\n",
    "\n",
    "$B = \\mu R_m$: BDP\n",
    "\n",
    "$R = w/\\mu$: RTT\n",
    "\n",
    "Note, $d_q = \\left(\\frac{w - B}{\\mu}\\right)^+$\n",
    "\n",
    "\n",
    "### Stability condition\n",
    "\n",
    "For an instant TCP, let $\\tau(d_q, w)$ give the target congestion window. It is stable only if \n",
    "\n",
    "$$ -\\frac{\\pi}{2} < \\frac{d \\tau(d_q, w)}{d w} < 0 $$\n",
    "\n",
    "Remember, we need to consider $d_q$'s dependence on $w$ in the derivative."
   ]
  },
  {
   "cell_type": "code",
   "execution_count": 111,
   "metadata": {},
   "outputs": [],
   "source": [
    "d_q, w, R_m, mu, B, R = symbols('d_q w R_m \\\\mu B R')"
   ]
  },
  {
   "cell_type": "markdown",
   "metadata": {},
   "source": [
    "### Sqrt Instant TCP\n",
    "Consider an instant TCP of the form $\\tau(d_q, w) = \\frac{\\alpha(w) R}{\\sqrt{d_q}}$. We need to find $\\alpha(w)$ such that this is stable. We picked sqrt because we believe that it will lead to a unique equilibrium point irrespective of the number of senders.\n",
    "\n",
    "**Note:** Turns out this intuition was wrong, since when we solve for $\\alpha$, we get a $w$ in the numerator which leads to infinitely many solutions\n",
    "\n",
    "Now, assume that, instead of writing $\\alpha$ as a function of cwnd, we can write it in terms of the BDP, $B$. In some cases, this will still lead to a stable solution.\n"
   ]
  },
  {
   "cell_type": "code",
   "execution_count": 112,
   "metadata": {},
   "outputs": [],
   "source": [
    "tau, alpha = symbols('\\\\tau \\\\alpha')\n",
    "\n",
    "tau = alpha * R / sqrt(d_q)"
   ]
  },
  {
   "cell_type": "markdown",
   "metadata": {},
   "source": [
    "Let us first find the equilibirum cwnd size for this, $w_0$"
   ]
  },
  {
   "cell_type": "code",
   "execution_count": 114,
   "metadata": {},
   "outputs": [
    {
     "data": {
      "image/png": "[encoded data removed]",
      "text/latex": [
       "$\\displaystyle B + \\frac{\\alpha^{2}}{\\mu}$"
      ],
      "text/plain": [
       "          2\n",
       "    \\alpha \n",
       "B + ───────\n",
       "      \\mu  "
      ]
     },
     "execution_count": 114,
     "metadata": {},
     "output_type": "execute_result"
    }
   ],
   "source": [
    "eqn = (tau - w).subs(d_q, (w - B) / mu).subs(R, w/mu)\n",
    "w_0 = solve(eqn, w)[1]\n",
    "w_0"
   ]
  },
  {
   "cell_type": "markdown",
   "metadata": {},
   "source": [
    "Now, to apply the stability condition we differentiate $\\tau$, set it to $-\\pi/2$ and solve for $\\alpha$"
   ]
  },
  {
   "cell_type": "code",
   "execution_count": 115,
   "metadata": {},
   "outputs": [
    {
     "data": {
      "image/png": "[encoded data removed]",
      "text/latex": [
       "$\\displaystyle - \\frac{\\alpha w}{2 \\mu \\sqrt{\\frac{- B + w}{\\mu}} \\left(- B + w\\right)} + \\frac{\\alpha}{\\mu \\sqrt{\\frac{- B + w}{\\mu}}}$"
      ],
      "text/plain": [
       "            \\alpha⋅w                 \\alpha     \n",
       "- ─────────────────────────── + ────────────────\n",
       "            ________                    ________\n",
       "           ╱ -B + w                    ╱ -B + w \n",
       "  2⋅\\mu⋅  ╱  ────── ⋅(-B + w)   \\mu⋅  ╱  ────── \n",
       "        ╲╱    \\mu                   ╲╱    \\mu   "
      ]
     },
     "execution_count": 115,
     "metadata": {},
     "output_type": "execute_result"
    }
   ],
   "source": [
    "# Differentiate\n",
    "tau_w = diff(tau.subs(d_q, (w - B) / mu).subs(R, w/mu), w)\n",
    "tau_w"
   ]
  },
  {
   "cell_type": "code",
   "execution_count": 116,
   "metadata": {},
   "outputs": [
    {
     "data": {
      "image/png": "[encoded data removed]",
      "text/latex": [
       "$\\displaystyle \\frac{\\mu \\sqrt{\\frac{\\alpha^{2}}{\\mu^{2}}} \\left(- B \\mu + \\alpha^{2}\\right)}{2 \\alpha^{3}}$"
      ],
      "text/plain": [
       "          _________                   \n",
       "         ╱       2                    \n",
       "        ╱  \\alpha   ⎛               2⎞\n",
       "\\mu⋅   ╱   ─────── ⋅⎝-B⋅\\mu + \\alpha ⎠\n",
       "      ╱         2                     \n",
       "    ╲╱       \\mu                      \n",
       "──────────────────────────────────────\n",
       "                      3               \n",
       "              2⋅\\alpha                "
      ]
     },
     "execution_count": 116,
     "metadata": {},
     "output_type": "execute_result"
    }
   ],
   "source": [
    "# Substitute w_0 and simplify\n",
    "tau_w__2 = simplify(tau_w.subs(w, w_0))\n",
    "tau_w__2"
   ]
  },
  {
   "cell_type": "code",
   "execution_count": 117,
   "metadata": {},
   "outputs": [
    {
     "data": {
      "image/png": "[encoded data removed]",
      "text/latex": [
       "$\\displaystyle \\left[ - \\frac{\\sqrt{B \\mu}}{\\sqrt{1 + \\pi}}, \\  \\frac{\\sqrt{B \\mu}}{\\sqrt{1 + \\pi}}, \\  - \\frac{\\sqrt{- B \\mu}}{\\sqrt{-1 + \\pi}}, \\  \\frac{\\sqrt{- B \\mu}}{\\sqrt{-1 + \\pi}}\\right]$"
      ],
      "text/plain": [
       "⎡   _______     _______     ________     ________⎤\n",
       "⎢-╲╱ B⋅\\mu    ╲╱ B⋅\\mu   -╲╱ -B⋅\\mu    ╲╱ -B⋅\\mu ⎥\n",
       "⎢───────────, ─────────, ────────────, ──────────⎥\n",
       "⎢   _______     _______     ________     ________⎥\n",
       "⎣ ╲╱ 1 + π    ╲╱ 1 + π    ╲╱ -1 + π    ╲╱ -1 + π ⎦"
      ]
     },
     "execution_count": 117,
     "metadata": {},
     "output_type": "execute_result"
    }
   ],
   "source": [
    "# Set to pi/2 and solve for alpha\n",
    "alpha_solns = solve(tau_w__2 - pi / 2, alpha)\n",
    "alpha_solns"
   ]
  },
  {
   "cell_type": "code",
   "execution_count": 118,
   "metadata": {},
   "outputs": [],
   "source": [
    "# Pick the real and positive solution\n",
    "alpha_soln = alpha_solns[1]"
   ]
  },
  {
   "cell_type": "markdown",
   "metadata": {},
   "source": [
    "We now have an alpha for which this algorithm should be stable. Let's see what the resultant $tau(d_q, w)$ looks like"
   ]
  },
  {
   "cell_type": "code",
   "execution_count": 119,
   "metadata": {},
   "outputs": [
    {
     "data": {
      "image/png": "[encoded data removed]",
      "text/latex": [
       "$\\displaystyle \\frac{R \\sqrt{B \\mu}}{\\sqrt{d_{q}} \\sqrt{1 + \\pi}}$"
      ],
      "text/plain": [
       "       _______   \n",
       "   R⋅╲╱ B⋅\\mu    \n",
       "─────────────────\n",
       "  _____   _______\n",
       "╲╱ d_q ⋅╲╱ 1 + π "
      ]
     },
     "execution_count": 119,
     "metadata": {},
     "output_type": "execute_result"
    }
   ],
   "source": [
    "tau_with_B = tau.subs(alpha, alpha_soln)\n",
    "tau_with_B"
   ]
  },
  {
   "cell_type": "markdown",
   "metadata": {},
   "source": [
    "In practice, we estimate $B$ as $B = w * R_m / R$. Let's plug that in"
   ]
  },
  {
   "cell_type": "code",
   "execution_count": 128,
   "metadata": {},
   "outputs": [
    {
     "data": {
      "image/png": "[encoded data removed]",
      "text/latex": [
       "$\\displaystyle \\frac{R \\sqrt{\\frac{R_{m} w^{2}}{R^{2}}}}{\\sqrt{d_{q}} \\sqrt{1 + \\pi}}$"
      ],
      "text/plain": [
       "         _______ \n",
       "        ╱     2  \n",
       "       ╱  Rₘ⋅w   \n",
       " R⋅   ╱   ─────  \n",
       "     ╱       2   \n",
       "   ╲╱       R    \n",
       "─────────────────\n",
       "  _____   _______\n",
       "╲╱ d_q ⋅╲╱ 1 + π "
      ]
     },
     "execution_count": 128,
     "metadata": {},
     "output_type": "execute_result"
    }
   ],
   "source": [
    "simplify(tau_with_B.subs(B, w * R_m / R).subs(mu * R_m, B).subs(B, w * R_m / R))"
   ]
  },
  {
   "cell_type": "code",
   "execution_count": null,
   "metadata": {},
   "outputs": [],
   "source": []
  }
 ],
 "metadata": {
  "kernelspec": {
   "display_name": "Python 3",
   "language": "python",
   "name": "python3"
  },
  "language_info": {
   "codemirror_mode": {
    "name": "ipython",
    "version": 3
   },
   "file_extension": ".py",
   "mimetype": "text/x-python",
   "name": "python",
   "nbconvert_exporter": "python",
   "pygments_lexer": "ipython3",
   "version": "3.7.4"
  }
 },
 "nbformat": 4,
 "nbformat_minor": 2
}
