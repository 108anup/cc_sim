{
 "cells": [
  {
   "cell_type": "code",
   "execution_count": 1,
   "metadata": {},
   "outputs": [],
   "source": [
    "from sympy import *\n",
    "init_printing()"
   ]
  },
  {
   "cell_type": "markdown",
   "metadata": {},
   "source": [
    "### Notation\n",
    "\n",
    "$d_q$: queuing delay\n",
    "\n",
    "$w$: congestion window\n",
    "\n",
    "$R_m$: minimum RTT (propagation delay)\n",
    "\n",
    "$\\mu$: link rate\n",
    "\n",
    "$B = \\mu R_m$: BDP\n",
    "\n",
    "$R = w/\\mu$: RTT\n",
    "\n",
    "Note, $d_q = \\left(\\frac{w - B}{\\mu}\\right)^+$\n",
    "\n",
    "\n",
    "### Stability condition\n",
    "\n",
    "For an instant TCP, let $\\tau(d_q, w)$ give the target congestion window. It is stable only if \n",
    "\n",
    "$$ -\\frac{\\pi}{2} < \\frac{d \\tau(d_q, w)}{d w} < 0 $$\n",
    "\n",
    "Remember, we need to consider $d_q$'s dependence on $w$ in the derivative."
   ]
  },
  {
   "cell_type": "code",
   "execution_count": 2,
   "metadata": {},
   "outputs": [],
   "source": [
    "d_q, w, R_m, mu, B, R = symbols('d_q w R_m \\\\mu B R')\n",
    "\n",
    "# Some identities. Notation: (LHS, RHS) for the identity LHS=RHS\n",
    "ident_B = (B, mu * R_m)\n",
    "ident_R_m = (R_m, B / mu)\n",
    "ident_R = (R, w / mu)\n",
    "ident_d_q = (d_q, (w - B) / mu)"
   ]
  },
  {
   "cell_type": "markdown",
   "metadata": {},
   "source": [
    "### Sqrt Instant TCP\n",
    "Consider an instant TCP of the form $\\tau(d_q, w) = \\frac{\\alpha(w) R}{\\sqrt{d_q}}$. We need to find $\\alpha(w)$ such that this is stable. We picked sqrt because we believe that it will lead to a unique equilibrium point irrespective of the number of senders.\n",
    "\n",
    "**Note:** Turns out this intuition was wrong, since when we solve for $\\alpha$, we get a $w$ in the numerator which leads to infinitely many solutions. This leads to unfairness. Note, this doesn't occur if we have a lower bound on BDP\n",
    "\n",
    "Now, assume that, instead of writing $\\alpha$ as a function of cwnd, we can write it in terms of the BDP, $B$. In some cases, this will still lead to a stable solution.\n"
   ]
  },
  {
   "cell_type": "code",
   "execution_count": 3,
   "metadata": {},
   "outputs": [],
   "source": [
    "tau, alpha = symbols('\\\\tau \\\\alpha')\n",
    "\n",
    "tau = alpha * R / sqrt(d_q)"
   ]
  },
  {
   "cell_type": "markdown",
   "metadata": {},
   "source": [
    "Let us first find the equilibirum cwnd size for this, $w_0$"
   ]
  },
  {
   "cell_type": "code",
   "execution_count": 4,
   "metadata": {},
   "outputs": [
    {
     "data": {
      "image/png": "[encoded data removed]",
      "text/latex": [
       "$\\displaystyle B + \\frac{\\alpha^{2}}{\\mu}$"
      ],
      "text/plain": [
       "          2\n",
       "    \\alpha \n",
       "B + ───────\n",
       "      \\mu  "
      ]
     },
     "execution_count": 4,
     "metadata": {},
     "output_type": "execute_result"
    }
   ],
   "source": [
    "eqn = (tau - w).subs(d_q, (w - B) / mu).subs(R, w/mu)\n",
    "w_0 = solve(eqn, w)[1]\n",
    "w_0"
   ]
  },
  {
   "cell_type": "markdown",
   "metadata": {},
   "source": [
    "Now, to apply the stability condition we differentiate $\\tau$, set it to $-\\pi/2$ and solve for $\\alpha$"
   ]
  },
  {
   "cell_type": "code",
   "execution_count": 5,
   "metadata": {},
   "outputs": [
    {
     "data": {
      "image/png": "[encoded data removed]",
      "text/latex": [
       "$\\displaystyle - \\frac{\\alpha w}{2 \\mu \\sqrt{\\frac{- B + w}{\\mu}} \\left(- B + w\\right)} + \\frac{\\alpha}{\\mu \\sqrt{\\frac{- B + w}{\\mu}}}$"
      ],
      "text/plain": [
       "            \\alpha⋅w                 \\alpha     \n",
       "- ─────────────────────────── + ────────────────\n",
       "            ________                    ________\n",
       "           ╱ -B + w                    ╱ -B + w \n",
       "  2⋅\\mu⋅  ╱  ────── ⋅(-B + w)   \\mu⋅  ╱  ────── \n",
       "        ╲╱    \\mu                   ╲╱    \\mu   "
      ]
     },
     "execution_count": 5,
     "metadata": {},
     "output_type": "execute_result"
    }
   ],
   "source": [
    "# Differentiate\n",
    "dtau_dw = diff(tau.subs(d_q, (w - B) / mu).subs(R, w/mu), w)\n",
    "dtau_dw"
   ]
  },
  {
   "cell_type": "code",
   "execution_count": 6,
   "metadata": {},
   "outputs": [
    {
     "data": {
      "image/png": "[encoded data removed]",
      "text/latex": [
       "$\\displaystyle \\frac{\\mu \\sqrt{\\frac{\\alpha^{2}}{\\mu^{2}}} \\left(- B \\mu + \\alpha^{2}\\right)}{2 \\alpha^{3}}$"
      ],
      "text/plain": [
       "          _________                   \n",
       "         ╱       2                    \n",
       "        ╱  \\alpha   ⎛               2⎞\n",
       "\\mu⋅   ╱   ─────── ⋅⎝-B⋅\\mu + \\alpha ⎠\n",
       "      ╱         2                     \n",
       "    ╲╱       \\mu                      \n",
       "──────────────────────────────────────\n",
       "                      3               \n",
       "              2⋅\\alpha                "
      ]
     },
     "execution_count": 6,
     "metadata": {},
     "output_type": "execute_result"
    }
   ],
   "source": [
    "# Substitute w_0 and simplify\n",
    "dtau_dw__2 = simplify(dtau_dw.subs(w, w_0))\n",
    "dtau_dw__2"
   ]
  },
  {
   "cell_type": "code",
   "execution_count": 7,
   "metadata": {},
   "outputs": [
    {
     "data": {
      "image/png": "[encoded data removed]",
      "text/latex": [
       "$\\displaystyle \\left[ - \\frac{\\sqrt{B \\mu}}{\\sqrt{1 + \\pi}}, \\  \\frac{\\sqrt{B \\mu}}{\\sqrt{1 + \\pi}}, \\  - \\frac{\\sqrt{- B \\mu}}{\\sqrt{-1 + \\pi}}, \\  \\frac{\\sqrt{- B \\mu}}{\\sqrt{-1 + \\pi}}\\right]$"
      ],
      "text/plain": [
       "⎡   _______     _______     ________     ________⎤\n",
       "⎢-╲╱ B⋅\\mu    ╲╱ B⋅\\mu   -╲╱ -B⋅\\mu    ╲╱ -B⋅\\mu ⎥\n",
       "⎢───────────, ─────────, ────────────, ──────────⎥\n",
       "⎢   _______     _______     ________     ________⎥\n",
       "⎣ ╲╱ 1 + π    ╲╱ 1 + π    ╲╱ -1 + π    ╲╱ -1 + π ⎦"
      ]
     },
     "execution_count": 7,
     "metadata": {},
     "output_type": "execute_result"
    }
   ],
   "source": [
    "# Set to pi/2 and solve for alpha\n",
    "alpha_solns = solve(dtau_dw__2 - pi / 2, alpha)\n",
    "alpha_solns"
   ]
  },
  {
   "cell_type": "code",
   "execution_count": 21,
   "metadata": {},
   "outputs": [
    {
     "data": {
      "image/png": "[encoded data removed]",
      "text/latex": [
       "$\\displaystyle \\frac{\\sqrt{B \\mu}}{\\sqrt{1 + \\pi}}$"
      ],
      "text/plain": [
       "  _______\n",
       "╲╱ B⋅\\mu \n",
       "─────────\n",
       "  _______\n",
       "╲╱ 1 + π "
      ]
     },
     "execution_count": 21,
     "metadata": {},
     "output_type": "execute_result"
    }
   ],
   "source": [
    "# Pick the real and positive solution\n",
    "alpha_soln = alpha_solns[1]\n",
    "alpha_soln"
   ]
  },
  {
   "cell_type": "markdown",
   "metadata": {},
   "source": [
    "We now have an alpha for which this algorithm should be stable. Let's see what the resultant $tau(d_q, w)$ looks like"
   ]
  },
  {
   "cell_type": "code",
   "execution_count": 9,
   "metadata": {},
   "outputs": [
    {
     "data": {
      "image/png": "[encoded data removed]",
      "text/latex": [
       "$\\displaystyle \\frac{R \\sqrt{B \\mu}}{\\sqrt{d_{q}} \\sqrt{1 + \\pi}}$"
      ],
      "text/plain": [
       "       _______   \n",
       "   R⋅╲╱ B⋅\\mu    \n",
       "─────────────────\n",
       "  _____   _______\n",
       "╲╱ d_q ⋅╲╱ 1 + π "
      ]
     },
     "execution_count": 9,
     "metadata": {},
     "output_type": "execute_result"
    }
   ],
   "source": [
    "tau_with_B = tau.subs(alpha, alpha_soln)\n",
    "tau_with_B"
   ]
  },
  {
   "cell_type": "markdown",
   "metadata": {},
   "source": [
    "In practice, we estimate $B$ as $B = w * R_m / R$. Let's plug that in"
   ]
  },
  {
   "cell_type": "code",
   "execution_count": 10,
   "metadata": {},
   "outputs": [
    {
     "data": {
      "image/png": "[encoded data removed]",
      "text/latex": [
       "$\\displaystyle \\frac{R \\sqrt{\\frac{R_{m} w^{2}}{R^{2}}}}{\\sqrt{d_{q}} \\sqrt{1 + \\pi}}$"
      ],
      "text/plain": [
       "         _______ \n",
       "        ╱     2  \n",
       "       ╱  Rₘ⋅w   \n",
       " R⋅   ╱   ─────  \n",
       "     ╱       2   \n",
       "   ╲╱       R    \n",
       "─────────────────\n",
       "  _____   _______\n",
       "╲╱ d_q ⋅╲╱ 1 + π "
      ]
     },
     "execution_count": 10,
     "metadata": {},
     "output_type": "execute_result"
    }
   ],
   "source": [
    "simplify(tau_with_B.subs(B, w * R_m / R).subs(mu * R_m, B).subs(B, w * R_m / R))"
   ]
  },
  {
   "cell_type": "markdown",
   "metadata": {},
   "source": [
    "### General Instant TCP\n",
    "Following the pattern we notice for copa and sqrt, we conjecture a general form as:\n",
    "\n",
    "$$ \\tau = k * w * \\left(\\frac{R_m}{d_q}\\right)^m $$\n",
    "\n",
    "Note, we assume that the power of $w$ is going to be 1, since that is what we saw previously"
   ]
  },
  {
   "cell_type": "code",
   "execution_count": 37,
   "metadata": {},
   "outputs": [
    {
     "data": {
      "image/png": "[encoded data removed]",
      "text/latex": [
       "$\\displaystyle k w \\left(\\frac{R_{m}}{d_{q}}\\right)^{m}$"
      ],
      "text/plain": [
       "         m\n",
       "    ⎛ Rₘ⎞ \n",
       "k⋅w⋅⎜───⎟ \n",
       "    ⎝d_q⎠ "
      ]
     },
     "execution_count": 37,
     "metadata": {},
     "output_type": "execute_result"
    }
   ],
   "source": [
    "tau, alpha, k, l, m = symbols('\\\\tau \\\\alpha k l m')\n",
    "\n",
    "# The base equation\n",
    "tau = k * w * (R_m / d_q) ** m\n",
    "tau"
   ]
  },
  {
   "cell_type": "code",
   "execution_count": 38,
   "metadata": {},
   "outputs": [
    {
     "data": {
      "image/png": "[encoded data removed]",
      "text/latex": [
       "$\\displaystyle k w \\left(\\frac{B}{- B + w}\\right)^{m}$"
      ],
      "text/plain": [
       "            m\n",
       "    ⎛  B   ⎞ \n",
       "k⋅w⋅⎜──────⎟ \n",
       "    ⎝-B + w⎠ "
      ]
     },
     "execution_count": 38,
     "metadata": {},
     "output_type": "execute_result"
    }
   ],
   "source": [
    "# tau in terms of B and w\n",
    "tau_wB = tau.subs(*ident_d_q).subs(*ident_R_m)\n",
    "tau_wB"
   ]
  },
  {
   "cell_type": "code",
   "execution_count": 39,
   "metadata": {},
   "outputs": [
    {
     "data": {
      "image/png": "[encoded data removed]",
      "text/latex": [
       "$\\displaystyle B + B \\left(\\frac{1}{k}\\right)^{- \\frac{1}{m}}$"
      ],
      "text/plain": [
       "         -1 \n",
       "         ───\n",
       "          m \n",
       "      ⎛1⎞   \n",
       "B + B⋅⎜─⎟   \n",
       "      ⎝k⎠   "
      ]
     },
     "execution_count": 39,
     "metadata": {},
     "output_type": "execute_result"
    }
   ],
   "source": [
    "# Solve for the equilibirum condition\n",
    "w_eq = solve(tau_wB - w, w)[1]\n",
    "#w_eq = B + a ** (1 / m) B\n",
    "w_eq"
   ]
  },
  {
   "cell_type": "code",
   "execution_count": 40,
   "metadata": {},
   "outputs": [
    {
     "data": {
      "image/png": "[encoded data removed]",
      "text/latex": [
       "$\\displaystyle - \\frac{k m w \\left(\\frac{B}{- B + w}\\right)^{m}}{- B + w} + k \\left(\\frac{B}{- B + w}\\right)^{m}$"
      ],
      "text/plain": [
       "                m              \n",
       "        ⎛  B   ⎞               \n",
       "  k⋅m⋅w⋅⎜──────⎟              m\n",
       "        ⎝-B + w⎠      ⎛  B   ⎞ \n",
       "- ─────────────── + k⋅⎜──────⎟ \n",
       "       -B + w         ⎝-B + w⎠ "
      ]
     },
     "execution_count": 40,
     "metadata": {},
     "output_type": "execute_result"
    }
   ],
   "source": [
    "# Derivative of tau\n",
    "dtau_dw = diff(tau.subs(*ident_d_q).subs(*ident_R_m), w)\n",
    "dtau_dw"
   ]
  },
  {
   "cell_type": "code",
   "execution_count": 41,
   "metadata": {},
   "outputs": [
    {
     "data": {
      "image/png": "[encoded data removed]",
      "text/latex": [
       "$\\displaystyle k \\left(- m \\left(\\left(\\frac{1}{k}\\right)^{\\frac{1}{m}} + 1\\right) + 1\\right) \\left(\\left(\\frac{1}{k}\\right)^{\\frac{1}{m}}\\right)^{m}$"
      ],
      "text/plain": [
       "                                 m\n",
       "  ⎛    ⎛    ___    ⎞    ⎞     ___ \n",
       "  ⎜    ⎜   ╱ 1     ⎟    ⎟    ╱ 1  \n",
       "k⋅⎜- m⋅⎜m ╱  ─  + 1⎟ + 1⎟⋅m ╱  ─  \n",
       "  ⎝    ⎝╲╱   k     ⎠    ⎠ ╲╱   k  "
      ]
     },
     "execution_count": 41,
     "metadata": {},
     "output_type": "execute_result"
    }
   ],
   "source": [
    "# Derivative at equilibrium\n",
    "dtau_dw__2 = simplify(dtau_dw.subs(w, w_eq))\n",
    "dtau_dw__2"
   ]
  },
  {
   "cell_type": "code",
   "execution_count": 42,
   "metadata": {},
   "outputs": [
    {
     "data": {
      "image/png": "[encoded data removed]",
      "text/latex": [
       "$\\displaystyle \\left[ \\left(- \\frac{2 m}{2 m - 2 + \\pi}\\right)^{m}\\right]$"
      ],
      "text/plain": [
       "⎡             m⎤\n",
       "⎢⎛   -2⋅m    ⎞ ⎥\n",
       "⎢⎜───────────⎟ ⎥\n",
       "⎣⎝2⋅m - 2 + π⎠ ⎦"
      ]
     },
     "execution_count": 42,
     "metadata": {},
     "output_type": "execute_result"
    }
   ],
   "source": [
    "# Find a k that satisfies that the derivative is smaller than pi / 2 for any m\n",
    "solve(dtau_dw__2 - pi/2, k)"
   ]
  },
  {
   "cell_type": "code",
   "execution_count": null,
   "metadata": {},
   "outputs": [],
   "source": []
  }
 ],
 "metadata": {
  "@webio": {
   "lastCommId": null,
   "lastKernelId": null
  },
  "kernelspec": {
   "display_name": "Python 3",
   "language": "python",
   "name": "python3"
  },
  "language_info": {
   "codemirror_mode": {
    "name": "ipython",
    "version": 3
   },
   "file_extension": ".py",
   "mimetype": "text/x-python",
   "name": "python",
   "nbconvert_exporter": "python",
   "pygments_lexer": "ipython3",
   "version": "3.7.4"
  }
 },
 "nbformat": 4,
 "nbformat_minor": 2
}
