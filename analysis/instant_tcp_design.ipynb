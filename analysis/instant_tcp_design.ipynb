{
 "cells": [
  {
   "cell_type": "code",
   "execution_count": 28,
   "metadata": {},
   "outputs": [],
   "source": [
    "from sympy import *\n",
    "init_printing()\n",
    "\n",
    "import numpy as np\n",
    "import matplotlib.pyplot as plt"
   ]
  },
  {
   "cell_type": "markdown",
   "metadata": {},
   "source": [
    "### Notation\n",
    "\n",
    "$d_q$: queuing delay\n",
    "\n",
    "$w$: congestion window\n",
    "\n",
    "$R_m$: minimum RTT (propagation delay)\n",
    "\n",
    "$\\mu$: link rate\n",
    "\n",
    "$B = \\mu R_m$: BDP\n",
    "\n",
    "$R = w/\\mu$: RTT\n",
    "\n",
    "Note, $d_q = \\left(\\frac{w - B}{\\mu}\\right)^+$\n",
    "\n",
    "\n",
    "### Stability condition\n",
    "\n",
    "For an instant TCP, let $\\tau(d_q, w)$ give the target congestion window. It is stable only if \n",
    "\n",
    "$$ -\\frac{\\pi}{2} < \\frac{d \\tau(d_q, w)}{d w} < 0 $$\n",
    "\n",
    "Remember, we need to consider $d_q$'s dependence on $w$ in the derivative.\n",
    "\n",
    "Note, in some of these analysis, we get one of the solutions of equilibrium cwnd as 0. This could cause starvation of flows. To avoid it, we should analyse the stability of that equilibrium."
   ]
  },
  {
   "cell_type": "code",
   "execution_count": 2,
   "metadata": {},
   "outputs": [],
   "source": [
    "d_q, w, R_m, mu, B, R = symbols('d_q w R_m \\\\mu B R')\n",
    "\n",
    "# Some identities. Notation: (LHS, RHS) for the identity LHS=RHS\n",
    "ident_B = (B, mu * R_m)\n",
    "ident_R_m = (R_m, B / mu)\n",
    "ident_R = (R, w / mu)\n",
    "ident_d_q = (d_q, (w - B) / mu)"
   ]
  },
  {
   "cell_type": "markdown",
   "metadata": {},
   "source": [
    "# Stabilizing Instant TCP\n",
    "\n",
    "### Sqrt Instant TCP\n",
    "Consider an instant TCP of the form $\\tau(d_q, w) = \\frac{\\alpha(w) R}{\\sqrt{d_q}}$. We need to find $\\alpha(w)$ such that this is stable. We picked sqrt because we believe that it will lead to a unique equilibrium point irrespective of the number of senders.\n",
    "\n",
    "**Note:** Turns out this intuition was wrong, since when we solve for $\\alpha$, we get a $w$ in the numerator which leads to infinitely many solutions. This leads to unfairness. Note, this doesn't occur if we have a lower bound on BDP\n",
    "\n",
    "Now, assume that, instead of writing $\\alpha$ as a function of cwnd, we can write it in terms of the BDP, $B$. In some cases, this will still lead to a stable solution.\n"
   ]
  },
  {
   "cell_type": "code",
   "execution_count": 44,
   "metadata": {},
   "outputs": [],
   "source": [
    "tau, alpha = symbols('\\\\tau \\\\alpha')\n",
    "\n",
    "tau = alpha * R / sqrt(d_q)"
   ]
  },
  {
   "cell_type": "markdown",
   "metadata": {},
   "source": [
    "Let us first find the equilibirum cwnd size for this, $w_0$"
   ]
  },
  {
   "cell_type": "code",
   "execution_count": 45,
   "metadata": {},
   "outputs": [
    {
     "data": {
      "image/png": "[encoded data removed]",
      "text/latex": [
       "$\\displaystyle B + \\frac{\\alpha^{2}}{\\mu}$"
      ],
      "text/plain": [
       "          2\n",
       "    \\alpha \n",
       "B + ───────\n",
       "      \\mu  "
      ]
     },
     "execution_count": 45,
     "metadata": {},
     "output_type": "execute_result"
    }
   ],
   "source": [
    "eqn = (tau - w).subs(*ident_d_q).subs(*ident_R)\n",
    "w_0 = solve(eqn, w)[1]\n",
    "w_0"
   ]
  },
  {
   "cell_type": "markdown",
   "metadata": {},
   "source": [
    "Now, to apply the stability condition we differentiate $\\tau$, set it to $-\\pi/2$ and solve for $\\alpha$"
   ]
  },
  {
   "cell_type": "code",
   "execution_count": 46,
   "metadata": {},
   "outputs": [
    {
     "data": {
      "image/png": "[encoded data removed]",
      "text/latex": [
       "$\\displaystyle - \\frac{\\alpha w}{2 \\mu \\sqrt{\\frac{- B + w}{\\mu}} \\left(- B + w\\right)} + \\frac{\\alpha}{\\mu \\sqrt{\\frac{- B + w}{\\mu}}}$"
      ],
      "text/plain": [
       "            \\alpha⋅w                 \\alpha     \n",
       "- ─────────────────────────── + ────────────────\n",
       "            ________                    ________\n",
       "           ╱ -B + w                    ╱ -B + w \n",
       "  2⋅\\mu⋅  ╱  ────── ⋅(-B + w)   \\mu⋅  ╱  ────── \n",
       "        ╲╱    \\mu                   ╲╱    \\mu   "
      ]
     },
     "execution_count": 46,
     "metadata": {},
     "output_type": "execute_result"
    }
   ],
   "source": [
    "# Differentiate\n",
    "dtau_dw = diff(tau.subs(*ident_d_q).subs(*ident_R), w)\n",
    "dtau_dw"
   ]
  },
  {
   "cell_type": "code",
   "execution_count": 6,
   "metadata": {},
   "outputs": [
    {
     "data": {
      "image/png": "[encoded data removed]",
      "text/latex": [
       "$\\displaystyle \\frac{\\mu \\sqrt{\\frac{\\alpha^{2}}{\\mu^{2}}} \\left(- B \\mu + \\alpha^{2}\\right)}{2 \\alpha^{3}}$"
      ],
      "text/plain": [
       "          _________                   \n",
       "         ╱       2                    \n",
       "        ╱  \\alpha   ⎛               2⎞\n",
       "\\mu⋅   ╱   ─────── ⋅⎝-B⋅\\mu + \\alpha ⎠\n",
       "      ╱         2                     \n",
       "    ╲╱       \\mu                      \n",
       "──────────────────────────────────────\n",
       "                      3               \n",
       "              2⋅\\alpha                "
      ]
     },
     "execution_count": 6,
     "metadata": {},
     "output_type": "execute_result"
    }
   ],
   "source": [
    "# Substitute w_0 and simplify\n",
    "dtau_dw__2 = simplify(dtau_dw.subs(w, w_0))\n",
    "dtau_dw__2"
   ]
  },
  {
   "cell_type": "code",
   "execution_count": 47,
   "metadata": {},
   "outputs": [
    {
     "data": {
      "image/png": "[encoded data removed]",
      "text/latex": [
       "$\\displaystyle - \\frac{B \\mu}{2 \\alpha^{2}} + \\frac{1}{2}$"
      ],
      "text/plain": [
       "    B⋅\\mu     1\n",
       "- ───────── + ─\n",
       "          2   2\n",
       "  2⋅\\alpha     "
      ]
     },
     "execution_count": 47,
     "metadata": {},
     "output_type": "execute_result"
    }
   ],
   "source": [
    "# Manual simplify assuming variables are positive and positive square roots (for show only, not calculations)\n",
    "# Note: if we want a real alpha, we must pick the negative square root \n",
    "(1 - B * mu / alpha ** 2) / 2"
   ]
  },
  {
   "cell_type": "code",
   "execution_count": 7,
   "metadata": {},
   "outputs": [
    {
     "data": {
      "image/png": "[encoded data removed]",
      "text/latex": [
       "$\\displaystyle \\left[ - \\frac{\\sqrt{B \\mu}}{\\sqrt{1 + \\pi}}, \\  \\frac{\\sqrt{B \\mu}}{\\sqrt{1 + \\pi}}, \\  - \\frac{\\sqrt{- B \\mu}}{\\sqrt{-1 + \\pi}}, \\  \\frac{\\sqrt{- B \\mu}}{\\sqrt{-1 + \\pi}}\\right]$"
      ],
      "text/plain": [
       "⎡   _______     _______     ________     ________⎤\n",
       "⎢-╲╱ B⋅\\mu    ╲╱ B⋅\\mu   -╲╱ -B⋅\\mu    ╲╱ -B⋅\\mu ⎥\n",
       "⎢───────────, ─────────, ────────────, ──────────⎥\n",
       "⎢   _______     _______     ________     ________⎥\n",
       "⎣ ╲╱ 1 + π    ╲╱ 1 + π    ╲╱ -1 + π    ╲╱ -1 + π ⎦"
      ]
     },
     "execution_count": 7,
     "metadata": {},
     "output_type": "execute_result"
    }
   ],
   "source": [
    "# Set to pi/2 and solve for alpha\n",
    "alpha_solns = solve(dtau_dw__2 - pi / 2, alpha)\n",
    "alpha_solns"
   ]
  },
  {
   "cell_type": "code",
   "execution_count": 8,
   "metadata": {},
   "outputs": [
    {
     "data": {
      "image/png": "[encoded data removed]",
      "text/latex": [
       "$\\displaystyle \\frac{\\sqrt{B \\mu}}{\\sqrt{1 + \\pi}}$"
      ],
      "text/plain": [
       "  _______\n",
       "╲╱ B⋅\\mu \n",
       "─────────\n",
       "  _______\n",
       "╲╱ 1 + π "
      ]
     },
     "execution_count": 8,
     "metadata": {},
     "output_type": "execute_result"
    }
   ],
   "source": [
    "# Pick the real and positive solution\n",
    "alpha_soln = alpha_solns[1]\n",
    "alpha_soln"
   ]
  },
  {
   "cell_type": "markdown",
   "metadata": {},
   "source": [
    "We now have an alpha for which this algorithm should be stable. Let's see what the resultant $tau(d_q, w)$ looks like"
   ]
  },
  {
   "cell_type": "code",
   "execution_count": 9,
   "metadata": {},
   "outputs": [
    {
     "data": {
      "image/png": "[encoded data removed]",
      "text/latex": [
       "$\\displaystyle \\frac{R \\sqrt{B \\mu}}{\\sqrt{d_{q}} \\sqrt{1 + \\pi}}$"
      ],
      "text/plain": [
       "       _______   \n",
       "   R⋅╲╱ B⋅\\mu    \n",
       "─────────────────\n",
       "  _____   _______\n",
       "╲╱ d_q ⋅╲╱ 1 + π "
      ]
     },
     "execution_count": 9,
     "metadata": {},
     "output_type": "execute_result"
    }
   ],
   "source": [
    "tau_with_B = tau.subs(alpha, alpha_soln)\n",
    "tau_with_B"
   ]
  },
  {
   "cell_type": "markdown",
   "metadata": {},
   "source": [
    "In practice, we estimate $B$ as $B = w * R_m / R$. Let's plug that in"
   ]
  },
  {
   "cell_type": "code",
   "execution_count": 10,
   "metadata": {},
   "outputs": [
    {
     "data": {
      "image/png": "[encoded data removed]",
      "text/latex": [
       "$\\displaystyle \\frac{R \\sqrt{\\frac{R_{m} w^{2}}{R^{2}}}}{\\sqrt{d_{q}} \\sqrt{1 + \\pi}}$"
      ],
      "text/plain": [
       "         _______ \n",
       "        ╱     2  \n",
       "       ╱  Rₘ⋅w   \n",
       " R⋅   ╱   ─────  \n",
       "     ╱       2   \n",
       "   ╲╱       R    \n",
       "─────────────────\n",
       "  _____   _______\n",
       "╲╱ d_q ⋅╲╱ 1 + π "
      ]
     },
     "execution_count": 10,
     "metadata": {},
     "output_type": "execute_result"
    }
   ],
   "source": [
    "simplify(tau_with_B.subs(B, w * R_m / R).subs(mu * R_m, B).subs(B, w * R_m / R))"
   ]
  },
  {
   "cell_type": "code",
   "execution_count": 52,
   "metadata": {},
   "outputs": [
    {
     "data": {
      "image/png": "[encoded data removed]",
      "text/latex": [
       "$\\displaystyle \\frac{w \\sqrt{\\frac{R_{m}}{d_{q}}}}{\\sqrt{1 + \\pi}}$"
      ],
      "text/plain": [
       "      _____\n",
       "     ╱  Rₘ \n",
       "w⋅  ╱  ─── \n",
       "  ╲╱   d_q \n",
       "───────────\n",
       "   _______ \n",
       " ╲╱ 1 + π  "
      ]
     },
     "execution_count": 52,
     "metadata": {},
     "output_type": "execute_result"
    }
   ],
   "source": [
    "# Manual simplification (just for showing)\n",
    "w * sqrt(R_m / (d_q * (1 + pi)))"
   ]
  },
  {
   "cell_type": "markdown",
   "metadata": {},
   "source": [
    "### General Instant TCP\n",
    "Following the pattern we notice for copa and sqrt, we conjecture a general form as:\n",
    "\n",
    "$$ \\tau = k * w * \\left(\\frac{R_m}{d_q}\\right)^m $$\n",
    "\n",
    "Note, we assume that the power of $w$ is going to be 1, since that is what we saw previously"
   ]
  },
  {
   "cell_type": "code",
   "execution_count": 59,
   "metadata": {},
   "outputs": [
    {
     "data": {
      "image/png": "[encoded data removed]",
      "text/latex": [
       "$\\displaystyle k w \\left(\\frac{R}{d_{q}}\\right)^{m}$"
      ],
      "text/plain": [
       "         m\n",
       "    ⎛ R ⎞ \n",
       "k⋅w⋅⎜───⎟ \n",
       "    ⎝d_q⎠ "
      ]
     },
     "execution_count": 59,
     "metadata": {},
     "output_type": "execute_result"
    }
   ],
   "source": [
    "tau, alpha, k, l, m = symbols('\\\\tau \\\\alpha k l m')\n",
    "# The base equation\n",
    "tau = k * w * (R / d_q) ** m\n",
    "tau"
   ]
  },
  {
   "cell_type": "code",
   "execution_count": 60,
   "metadata": {},
   "outputs": [
    {
     "data": {
      "image/png": "[encoded data removed]",
      "text/latex": [
       "$\\displaystyle k w \\left(\\frac{R \\mu}{- B + w}\\right)^{m}$"
      ],
      "text/plain": [
       "            m\n",
       "    ⎛R⋅\\mu ⎞ \n",
       "k⋅w⋅⎜──────⎟ \n",
       "    ⎝-B + w⎠ "
      ]
     },
     "execution_count": 60,
     "metadata": {},
     "output_type": "execute_result"
    }
   ],
   "source": [
    "# tau in terms of B and w\n",
    "tau_wB = tau.subs(*ident_d_q).subs(*ident_R_m)\n",
    "tau_wB"
   ]
  },
  {
   "cell_type": "code",
   "execution_count": 61,
   "metadata": {},
   "outputs": [
    {
     "data": {
      "image/png": "[encoded data removed]",
      "text/latex": [
       "$\\displaystyle B + R \\mu \\left(\\frac{1}{k}\\right)^{- \\frac{1}{m}}$"
      ],
      "text/plain": [
       "             -1 \n",
       "             ───\n",
       "              m \n",
       "          ⎛1⎞   \n",
       "B + R⋅\\mu⋅⎜─⎟   \n",
       "          ⎝k⎠   "
      ]
     },
     "execution_count": 61,
     "metadata": {},
     "output_type": "execute_result"
    }
   ],
   "source": [
    "# Solve for the equilibirum condition\n",
    "w_eq = solve(tau_wB - w, w)[1]\n",
    "w_eq"
   ]
  },
  {
   "cell_type": "code",
   "execution_count": 19,
   "metadata": {},
   "outputs": [
    {
     "data": {
      "image/png": "[encoded data removed]",
      "text/latex": [
       "$\\displaystyle - \\frac{k m w \\left(\\frac{B}{- B + w}\\right)^{m}}{- B + w} + k \\left(\\frac{B}{- B + w}\\right)^{m}$"
      ],
      "text/plain": [
       "                m              \n",
       "        ⎛  B   ⎞               \n",
       "  k⋅m⋅w⋅⎜──────⎟              m\n",
       "        ⎝-B + w⎠      ⎛  B   ⎞ \n",
       "- ─────────────── + k⋅⎜──────⎟ \n",
       "       -B + w         ⎝-B + w⎠ "
      ]
     },
     "execution_count": 19,
     "metadata": {},
     "output_type": "execute_result"
    }
   ],
   "source": [
    "# Derivative of tau\n",
    "dtau_dw = diff(tau_wB, w)\n",
    "dtau_dw"
   ]
  },
  {
   "cell_type": "code",
   "execution_count": 15,
   "metadata": {},
   "outputs": [
    {
     "data": {
      "image/png": "[encoded data removed]",
      "text/latex": [
       "$\\displaystyle k \\left(- m \\left(\\left(\\frac{1}{k}\\right)^{\\frac{1}{m}} + 1\\right) + 1\\right) \\left(\\left(\\frac{1}{k}\\right)^{\\frac{1}{m}}\\right)^{m}$"
      ],
      "text/plain": [
       "                                 m\n",
       "  ⎛    ⎛    ___    ⎞    ⎞     ___ \n",
       "  ⎜    ⎜   ╱ 1     ⎟    ⎟    ╱ 1  \n",
       "k⋅⎜- m⋅⎜m ╱  ─  + 1⎟ + 1⎟⋅m ╱  ─  \n",
       "  ⎝    ⎝╲╱   k     ⎠    ⎠ ╲╱   k  "
      ]
     },
     "execution_count": 15,
     "metadata": {},
     "output_type": "execute_result"
    }
   ],
   "source": [
    "# Derivative at equilibrium\n",
    "dtau_dw__2 = simplify(dtau_dw.subs(w, w_eq))\n",
    "dtau_dw__2"
   ]
  },
  {
   "cell_type": "code",
   "execution_count": 26,
   "metadata": {},
   "outputs": [
    {
     "data": {
      "image/png": "[encoded data removed]",
      "text/latex": [
       "$\\displaystyle - m \\left(\\left(\\frac{1}{k}\\right)^{\\frac{1}{m}} + 1\\right) + 1$"
      ],
      "text/plain": [
       "    ⎛    ___    ⎞    \n",
       "    ⎜   ╱ 1     ⎟    \n",
       "- m⋅⎜m ╱  ─  + 1⎟ + 1\n",
       "    ⎝╲╱   k     ⎠    "
      ]
     },
     "execution_count": 26,
     "metadata": {},
     "output_type": "execute_result"
    }
   ],
   "source": [
    "# Manual simplification (just for showing, not calculating)\n",
    "1 - m*((1 / k) ** (1/m) + 1)\n"
   ]
  },
  {
   "cell_type": "code",
   "execution_count": 51,
   "metadata": {},
   "outputs": [
    {
     "data": {
      "image/png": "[encoded data removed]",
      "text/latex": [
       "$\\displaystyle \\left(- \\frac{2 m}{2 m - 2 + \\pi}\\right)^{m}$"
      ],
      "text/plain": [
       "             m\n",
       "⎛   -2⋅m    ⎞ \n",
       "⎜───────────⎟ \n",
       "⎝2⋅m - 2 + π⎠ "
      ]
     },
     "execution_count": 51,
     "metadata": {},
     "output_type": "execute_result"
    }
   ],
   "source": [
    "# Find a k that satisfies that the derivative is smaller than pi / 2 for any m\n",
    "k_stable = solve(dtau_dw__2 - pi/2, k)[0]\n",
    "k_stable"
   ]
  },
  {
   "cell_type": "code",
   "execution_count": 48,
   "metadata": {},
   "outputs": [
    {
     "data": {
      "image/png": "[encoded data removed]",
      "text/latex": [
       "$\\displaystyle 0.683331696121481 i$"
      ],
      "text/plain": [
       "0.683331696121481⋅ⅈ"
      ]
     },
     "execution_count": 48,
     "metadata": {},
     "output_type": "execute_result"
    }
   ],
   "source": [
    "# Plot k_stable as a function of m\n",
    "m_plt = np.linspace(0, 2, 10)\n",
    "[k_stable.evalf(subs={m: x}) for x in m_plt]\n",
    "k_stable.evalf(subs={m: 0.5})"
   ]
  },
  {
   "cell_type": "markdown",
   "metadata": {},
   "source": [
    "### General TCP 2\n",
    "Another way to calculate a general version where we assume $\\tau$ of the form:\n",
    "\n",
    "$$ \\tau = \\alpha R * d_q^m $$"
   ]
  },
  {
   "cell_type": "code",
   "execution_count": 63,
   "metadata": {},
   "outputs": [
    {
     "data": {
      "image/png": "[encoded data removed]",
      "text/latex": [
       "$\\displaystyle R \\alpha d_{q}^{m}$"
      ],
      "text/plain": [
       "            m\n",
       "R⋅\\alpha⋅d_q "
      ]
     },
     "execution_count": 63,
     "metadata": {},
     "output_type": "execute_result"
    }
   ],
   "source": [
    "tau, alpha, m = symbols('\\\\tau \\\\alpha m')\n",
    "\n",
    "tau = alpha * R * d_q ** m\n",
    "tau"
   ]
  },
  {
   "cell_type": "code",
   "execution_count": 72,
   "metadata": {},
   "outputs": [
    {
     "data": {
      "image/png": "[encoded data removed]",
      "text/latex": [
       "$\\displaystyle \\frac{\\alpha w \\left(\\frac{- B + w}{\\mu}\\right)^{m}}{\\mu}$"
      ],
      "text/plain": [
       "                 m\n",
       "         ⎛-B + w⎞ \n",
       "\\alpha⋅w⋅⎜──────⎟ \n",
       "         ⎝ \\mu  ⎠ \n",
       "──────────────────\n",
       "       \\mu        "
      ]
     },
     "execution_count": 72,
     "metadata": {},
     "output_type": "execute_result"
    }
   ],
   "source": [
    "# Alternate form\n",
    "tau_wB = tau.subs(*ident_R).subs(*ident_d_q)\n",
    "tau_wB"
   ]
  },
  {
   "cell_type": "code",
   "execution_count": 74,
   "metadata": {},
   "outputs": [
    {
     "data": {
      "image/png": "[encoded data removed]",
      "text/latex": [
       "$\\displaystyle B + \\mu \\left(\\frac{\\mu}{\\alpha}\\right)^{\\frac{1}{m}}$"
      ],
      "text/plain": [
       "            ________\n",
       "           ╱  \\mu   \n",
       "B + \\mu⋅m ╱  ────── \n",
       "        ╲╱   \\alpha "
      ]
     },
     "execution_count": 74,
     "metadata": {},
     "output_type": "execute_result"
    }
   ],
   "source": [
    "# Find equilibrium point\n",
    "w_eq = solve(w - tau_wB, w)[1]\n",
    "w_eq"
   ]
  },
  {
   "cell_type": "code",
   "execution_count": 77,
   "metadata": {},
   "outputs": [
    {
     "data": {
      "image/png": "[encoded data removed]",
      "text/latex": [
       "$\\displaystyle \\frac{\\alpha \\left(\\frac{\\mu}{\\alpha}\\right)^{- \\frac{1}{m}} \\left(\\mu \\left(\\frac{\\mu}{\\alpha}\\right)^{\\frac{1}{m}} + m \\left(B + \\mu \\left(\\frac{\\mu}{\\alpha}\\right)^{\\frac{1}{m}}\\right)\\right) \\left(\\left(\\frac{\\mu}{\\alpha}\\right)^{\\frac{1}{m}}\\right)^{m}}{\\mu^{2}}$"
      ],
      "text/plain": [
       "               -1                                                             \n",
       "               ───                                                           m\n",
       "                m  ⎛        ________     ⎛            ________⎞⎞     ________ \n",
       "       ⎛ \\mu  ⎞    ⎜       ╱  \\mu        ⎜           ╱  \\mu   ⎟⎟    ╱  \\mu    \n",
       "\\alpha⋅⎜──────⎟   ⋅⎜\\mu⋅m ╱  ──────  + m⋅⎜B + \\mu⋅m ╱  ────── ⎟⎟⋅m ╱  ──────  \n",
       "       ⎝\\alpha⎠    ⎝    ╲╱   \\alpha      ⎝        ╲╱   \\alpha ⎠⎠ ╲╱   \\alpha  \n",
       "──────────────────────────────────────────────────────────────────────────────\n",
       "                                        2                                     \n",
       "                                     \\mu                                      "
      ]
     },
     "execution_count": 77,
     "metadata": {},
     "output_type": "execute_result"
    }
   ],
   "source": [
    "# Differentiate tau and substitute equilibrium value\n",
    "dtau_dw = simplify(diff(tau_wB, w).subs(w, w_eq))\n",
    "dtau_dw"
   ]
  },
  {
   "cell_type": "code",
   "execution_count": 80,
   "metadata": {},
   "outputs": [
    {
     "data": {
      "image/png": "[encoded data removed]",
      "text/latex": [
       "$\\displaystyle e^{m \\log{\\left(- \\frac{\\mu^{\\frac{m + 1}{m}} \\left(2 m - \\pi + 2\\right)}{2 B m} \\right)}}$"
      ],
      "text/plain": [
       "      ⎛    m + 1               ⎞\n",
       "      ⎜    ─────               ⎟\n",
       "      ⎜      m                 ⎟\n",
       "      ⎜-\\mu     ⋅(2⋅m - π + 2) ⎟\n",
       " m⋅log⎜────────────────────────⎟\n",
       "      ⎝         2⋅B⋅m          ⎠\n",
       "ℯ                               "
      ]
     },
     "execution_count": 80,
     "metadata": {},
     "output_type": "execute_result"
    }
   ],
   "source": [
    "# Find an alpha that satisfies condition\n",
    "alpha_soln = solve(dtau_dw - pi / 2, alpha)[0]\n",
    "alpha_soln"
   ]
  },
  {
   "cell_type": "code",
   "execution_count": 82,
   "metadata": {},
   "outputs": [
    {
     "data": {
      "image/png": "[encoded data removed]",
      "text/latex": [
       "$\\displaystyle \\frac{1.0}{\\left(\\frac{1.0 - \\pi}{B \\mu^{1.0}}\\right)^{0.5}}$"
      ],
      "text/plain": [
       "                       -0.5\n",
       "    ⎛   -1.0          ⎞    \n",
       "    ⎜\\mu    ⋅(1.0 - π)⎟    \n",
       "1.0⋅⎜─────────────────⎟    \n",
       "    ⎝        B        ⎠    "
      ]
     },
     "execution_count": 82,
     "metadata": {},
     "output_type": "execute_result"
    }
   ],
   "source": [
    "alpha_soln.subs(m, -1 / 2)"
   ]
  },
  {
   "cell_type": "markdown",
   "metadata": {},
   "source": [
    "# Oscillating Instant TCP\n",
    "We set the cwnd as follows:\n",
    "$$ w(t) = b(t) + a(t)\\sin{\\omega t} $$\n",
    "\n",
    "$b(t)$ is the 'base' congestion window and controls efficiency. $a(t)$ is the amplitude. This is what senders observe to ensure fairness. $\\omega$ is a global oscillation frequency. We set $a(t) = s b(t)$ for some constant $s$. Let us look at the amplitude of oscillation of the queuing delay:\n",
    "\n",
    "$$ d_{osc} = \n",
    "\\begin{cases} \n",
    "    2a = 2sb & b - a = (1 - s)b \\ge B \\\\\n",
    "    b + a - B = (1 + s)b - B & b + a = (1 + s)b \\ge B \\:\\mathrm{and}\\: (1 - s)b \\le B \\\\\n",
    "    0 & otherwise\n",
    "\\end{cases}\n",
    "$$"
   ]
  },
  {
   "cell_type": "markdown",
   "metadata": {},
   "source": [
    "We consider an update rule of the form:\n",
    "\n",
    "$$ b_{target} = \\frac{\\alpha R_{mid}}{d_{osc}} $$\n",
    "\n",
    "for some $\\alpha$ which may be a function of $B$. As before, $B$ can be estimated as $w R_m / R$. Here, $R_{mid}$ is the middle RTT, so $R_{mid} = \\frac{b}{\\mu}$"
   ]
  },
  {
   "cell_type": "code",
   "execution_count": 150,
   "metadata": {},
   "outputs": [],
   "source": [
    "s, b, d_osc, R_mid, alpha = symbols('s b d_{osc} R_{mid} \\\\alpha')\n",
    "ident_d_osc_1 = (d_osc, (1 + s) * b - B)\n",
    "ident_d_osc_2 = (d_osc, 2 * s * b)\n",
    "ident_R_mid = (R_mid, b / mu)"
   ]
  },
  {
   "cell_type": "code",
   "execution_count": 151,
   "metadata": {},
   "outputs": [
    {
     "data": {
      "image/png": "[encoded data removed]",
      "text/latex": [
       "$\\displaystyle \\frac{R_{mid} \\alpha}{d_{osc}}$"
      ],
      "text/plain": [
       "R_{mid}⋅\\alpha\n",
       "──────────────\n",
       "   d_{osc}    "
      ]
     },
     "execution_count": 151,
     "metadata": {},
     "output_type": "execute_result"
    }
   ],
   "source": [
    "# The target\n",
    "b_target = alpha * R_mid / d_osc\n",
    "b_target"
   ]
  },
  {
   "cell_type": "code",
   "execution_count": 152,
   "metadata": {},
   "outputs": [
    {
     "data": {
      "image/png": "[encoded data removed]",
      "text/latex": [
       "$\\displaystyle \\frac{\\alpha b}{\\mu \\left(- B + b \\left(s + 1\\right)\\right)}$"
      ],
      "text/plain": [
       "      \\alpha⋅b      \n",
       "────────────────────\n",
       "\\mu⋅(-B + b⋅(s + 1))"
      ]
     },
     "execution_count": 152,
     "metadata": {},
     "output_type": "execute_result"
    }
   ],
   "source": [
    "# Write in terms of b and B\n",
    "b_target_bB = b_target.subs(*ident_d_osc_1).subs(*ident_R_mid)\n",
    "b_target_bB"
   ]
  },
  {
   "cell_type": "code",
   "execution_count": 153,
   "metadata": {},
   "outputs": [
    {
     "data": {
      "image/png": "[encoded data removed]",
      "text/latex": [
       "$\\displaystyle \\frac{B \\mu + \\alpha}{\\mu \\left(s + 1\\right)}$"
      ],
      "text/plain": [
       "B⋅\\mu + \\alpha\n",
       "──────────────\n",
       " \\mu⋅(s + 1)  "
      ]
     },
     "execution_count": 153,
     "metadata": {},
     "output_type": "execute_result"
    }
   ],
   "source": [
    "# Solve for equilibrium b.\n",
    "b_eq = solve(b_target_bB - b, b)[1] # Note, 0 is also a solution here\n",
    "b_eq"
   ]
  },
  {
   "cell_type": "code",
   "execution_count": 154,
   "metadata": {},
   "outputs": [
    {
     "data": {
      "image/png": "[encoded data removed]",
      "text/latex": [
       "$\\displaystyle \\left( - \\frac{B \\mu}{\\alpha}, \\  \\frac{\\alpha b \\left(- s - 1\\right)}{\\mu \\left(- B + b \\left(s + 1\\right)\\right)^{2}} + \\frac{\\alpha}{\\mu \\left(- B + b \\left(s + 1\\right)\\right)}\\right)$"
      ],
      "text/plain": [
       "⎛-B⋅\\mu     \\alpha⋅b⋅(-s - 1)            \\alpha       ⎞\n",
       "⎜───────, ───────────────────── + ────────────────────⎟\n",
       "⎜ \\alpha                      2   \\mu⋅(-B + b⋅(s + 1))⎟\n",
       "⎝         \\mu⋅(-B + b⋅(s + 1))                        ⎠"
      ]
     },
     "execution_count": 154,
     "metadata": {},
     "output_type": "execute_result"
    }
   ],
   "source": [
    "# Differentiate and substitute equilibrium\n",
    "db_target_db_eq = simplify(diff(b_target_bB, b).subs(b, b_eq))\n",
    "db_target_db_eq, diff(b_target_bB, b)"
   ]
  },
  {
   "cell_type": "code",
   "execution_count": 155,
   "metadata": {},
   "outputs": [
    {
     "data": {
      "image/png": "[encoded data removed]",
      "text/latex": [
       "$\\displaystyle - \\frac{2 B \\mu}{\\pi}$"
      ],
      "text/plain": [
       "-2⋅B⋅\\mu \n",
       "─────────\n",
       "    π    "
      ]
     },
     "execution_count": 155,
     "metadata": {},
     "output_type": "execute_result"
    }
   ],
   "source": [
    "# Pick alpha to meet stability condition\n",
    "alpha_soln = solve(db_target_db_eq - pi / 2, alpha)[0]\n",
    "alpha_soln"
   ]
  },
  {
   "cell_type": "code",
   "execution_count": 168,
   "metadata": {},
   "outputs": [
    {
     "data": {
      "image/png": "[encoded data removed]",
      "text/latex": [
       "$\\displaystyle \\frac{B \\left(2 - \\pi\\right) \\left(s - 1\\right)}{\\pi \\left(s + 1\\right)}$"
      ],
      "text/plain": [
       "B⋅(2 - π)⋅(s - 1)\n",
       "─────────────────\n",
       "    π⋅(s + 1)    "
      ]
     },
     "execution_count": 168,
     "metadata": {},
     "output_type": "execute_result"
    }
   ],
   "source": [
    "# Now, find an 's' such that b - a = B, and the queue empties periodically. \n",
    "# First compute b - a at equilibrium with the given alpha\n",
    "b_eq_minus_a = simplify(b_eq.subs(alpha, alpha_soln) * (1 - s))\n",
    "b_eq_minus_a"
   ]
  },
  {
   "cell_type": "code",
   "execution_count": 169,
   "metadata": {},
   "outputs": [
    {
     "data": {
      "image/png": "[encoded data removed]",
      "text/latex": [
       "$\\displaystyle \\frac{1}{1 - \\pi}$"
      ],
      "text/plain": [
       "  1  \n",
       "─────\n",
       "1 - π"
      ]
     },
     "execution_count": 169,
     "metadata": {},
     "output_type": "execute_result"
    }
   ],
   "source": [
    "# Find s\n",
    "s_soln = solve(b_eq_minus_a - B, s)[0]\n",
    "s_soln"
   ]
  },
  {
   "cell_type": "code",
   "execution_count": 163,
   "metadata": {},
   "outputs": [
    {
     "data": {
      "image/png": "[encoded data removed]",
      "text/latex": [
       "$\\displaystyle \\left( \\frac{2 B b \\left(1 - \\pi\\right)}{\\pi \\left(B \\left(1 - \\pi\\right) - b \\left(2 - \\pi\\right)\\right)}, \\  \\frac{2 B b}{\\pi \\left(B \\left(1 - \\pi\\right) - b \\left(2 - \\pi\\right)\\right)}\\right)$"
      ],
      "text/plain": [
       "⎛      2⋅B⋅b⋅(1 - π)                  2⋅B⋅b          ⎞\n",
       "⎜─────────────────────────, ─────────────────────────⎟\n",
       "⎝π⋅(B⋅(1 - π) - b⋅(2 - π))  π⋅(B⋅(1 - π) - b⋅(2 - π))⎠"
      ]
     },
     "execution_count": 163,
     "metadata": {},
     "output_type": "execute_result"
    }
   ],
   "source": [
    "# Final formula\n",
    "b_final = simplify(b_target_bB.subs(alpha, alpha_soln).subs(s, s_soln))\n",
    "a_final = simplify((b_final * s).subs(s, s_soln))\n",
    "(b_final, a_final)"
   ]
  },
  {
   "cell_type": "code",
   "execution_count": null,
   "metadata": {},
   "outputs": [],
   "source": []
  }
 ],
 "metadata": {
  "@webio": {
   "lastCommId": null,
   "lastKernelId": null
  },
  "kernelspec": {
   "display_name": "Python 3",
   "language": "python",
   "name": "python3"
  },
  "language_info": {
   "codemirror_mode": {
    "name": "ipython",
    "version": 3
   },
   "file_extension": ".py",
   "mimetype": "text/x-python",
   "name": "python",
   "nbconvert_exporter": "python",
   "pygments_lexer": "ipython3",
   "version": "3.7.4"
  }
 },
 "nbformat": 4,
 "nbformat_minor": 2
}
