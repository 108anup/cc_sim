{
 "cells": [
  {
   "cell_type": "code",
   "execution_count": 1,
   "metadata": {},
   "outputs": [],
   "source": [
    "from sympy import *\n",
    "init_printing()\n",
    "\n",
    "import numpy as np\n",
    "import matplotlib.pyplot as plt"
   ]
  },
  {
   "cell_type": "markdown",
   "metadata": {},
   "source": [
    "## Goal\n",
    "Design a TCP algorithm that is fast, but not necessarily instant. It seems that all instant-TCP designs tend to have an equilibrium wherethe queue is a linear function of the RTT. This works quite well in most cases, but leads to severe RTT unfairness---the sender with the largest RTT takes over all of the bandwidth. This equilibrium is inherently RTT unfair.\n",
    "\n",
    "This motivates us to look for other equilibria which are not RTT-unfair. Presumably we cannot have instant-TCP with such equilibriua, but we'll try to move as fast as possible anyway."
   ]
  },
  {
   "cell_type": "markdown",
   "metadata": {},
   "source": [
    "### Notation\n",
    "\n",
    "$d_q$: queuing delay\n",
    "\n",
    "$w$: congestion window\n",
    "\n",
    "$R_m$: minimum RTT (propagation delay)\n",
    "\n",
    "$\\mu$: link rate\n",
    "\n",
    "$B = \\mu R_m$: BDP\n",
    "\n",
    "$R = w/\\mu$: RTT\n",
    "\n",
    "Note, $d_q = \\left(\\frac{w - B}{\\mu}\\right)^+$"
   ]
  },
  {
   "cell_type": "markdown",
   "metadata": {},
   "source": [
    "<a id=\"stability-condition\"></a>\n",
    "### Stability Condition\n",
    "If our dynamics leads to a condition where:\n",
    "\n",
    "$$ \\frac{\\mathrm{d}w}{\\mathrm{d}t} = m * (w - e_{eq}) $$\n",
    "\n",
    "around the equilibrium point (i.e. when $\\Delta w = w - w_{eq}$ is small), then the system is unstable unless:\n",
    "\n",
    "$$ -\\frac{\\pi}{2R} < m < 0 $$"
   ]
  },
  {
   "cell_type": "code",
   "execution_count": 116,
   "metadata": {},
   "outputs": [],
   "source": [
    "d_q, w, R_m, mu, B, R = symbols('d_q w R_m \\\\mu B R', positive=True, real=True)\n",
    "\n",
    "# Some identities. Notation: (LHS, RHS) for the identity LHS=RHS\n",
    "ident_B = (B, mu * R_m)\n",
    "ident_R_m = (R_m, B / mu)\n",
    "ident_mu = (mu, w / R)\n",
    "# Note: The following identities are only valid if w >= B (i.e. link is fully utilized)\n",
    "ident_R = (R, w / mu)\n",
    "ident_d_q = (d_q, (w - B) / mu)"
   ]
  },
  {
   "cell_type": "markdown",
   "metadata": {},
   "source": [
    "### Dynamics\n",
    "To ensure stability, we'll probably need a more flexible dynamic than just 'set the current rate to the target rate'. Instead we'll need to move more slowly. Say we move as follows:\n",
    "\n",
    "$$ w_{new} \\leftarrow \\beta \\cdot w_{old} + (1 - \\beta) \\cdot \\tau(d_q) $$\n",
    "\n",
    "here, $0 \\le \\beta \\le 1$ and $w_{old}$ is the cwnd from 1 RTT ago. Larger $\\beta$ will move slower and $\\beta=0$ corresponds to instant TCP. We expect that $\\beta$ will be a function of $R$, and cause senders with larger RTTs to move slower. The hope is that we move the $R$-dependence away from $\\tau$ and into $\\beta$."
   ]
  },
  {
   "cell_type": "markdown",
   "metadata": {},
   "source": [
    "With this dynamic,\n",
    "\n",
    "$$ \\frac{\\mathrm{d}w}{\\mathrm{d}t} = \\frac{w_{new} - w_{old}}{R} = \\frac{1 - \\beta}{R} \\left(\\tau(d_q) - w_{old}\\right) $$\n",
    "\n",
    "Now, linearizing around equilibrium, we have (note, $d_q$ is a function of $w_{old}$)\n",
    "\n",
    "$$ \\tau(d_q) \\approx w_{eq} + \\left. \\frac{\\mathrm{d}\\tau(d_q)}{\\mathrm{d}w} \\right|_{w_{eq}} \\cdot (w_{old} - w_{eq}) $$\n",
    "\n",
    "$$ \\Rightarrow \\tau(d_q) - w_{old} \\approx \\left( \\left. \\frac{\\mathrm{d}\\tau(d_q)}{\\mathrm{d}w} \\right|_{w_{eq}} - 1 \\right) \\cdot (w_{old} - w_{eq}) $$\n",
    "\n",
    "Substuting in $\\frac{\\mathrm{d}w}{\\mathrm{d}t}$ and comparing with equations in section [stability condition](#stability-condition), we want\n",
    "\n",
    "$$ -\\frac{\\pi}{2R} < \\frac{1 - \\beta}{R} \\left(\\left. \\frac{\\mathrm{d}\\tau(d_q)}{\\mathrm{d}w} \\right|_{w_{eq}} - 1 \\right) < 0 $$\n",
    "\n",
    "**Note:** Think carefully about whether we can use $w_{old}$ in place of $w$ in the stability condition"
   ]
  },
  {
   "cell_type": "markdown",
   "metadata": {},
   "source": [
    "### Desired Equilibrium\n",
    "\n",
    "Let $\\tau(d_q)$ be the target cwnd. Let us start by exploring the equilibrium where:\n",
    "    \n",
    "$$ \\tau(d_q) = \\frac{\\alpha R}{d_q^2} $$\n",
    "\n",
    "The 'square' in the denominator helps reduce the precision needed to measure the queuing delay. The $R$ is there since this is cwnd, and we want to set rate to be idependent of $R$\n",
    "\n",
    "We now compute the equilibrium point for this function"
   ]
  },
  {
   "cell_type": "code",
   "execution_count": 132,
   "metadata": {},
   "outputs": [
    {
     "data": {
      "image/png": "[encoded data removed]",
      "text/latex": [
       "$\\displaystyle \\frac{R \\alpha}{d_{q}^{2}}$"
      ],
      "text/plain": [
       "R⋅α \n",
       "────\n",
       "   2\n",
       "d_q "
      ]
     },
     "execution_count": 132,
     "metadata": {},
     "output_type": "execute_result"
    }
   ],
   "source": [
    "alpha = symbols('alpha', positive=True, real=True)\n",
    "beta = symbols('beta', real=True)\n",
    "tau = alpha * R / d_q ** 2\n",
    "tau "
   ]
  },
  {
   "cell_type": "code",
   "execution_count": 133,
   "metadata": {},
   "outputs": [
    {
     "data": {
      "image/png": "[encoded data removed]",
      "text/latex": [
       "$\\displaystyle \\left[ B - \\sqrt{\\mu} \\sqrt{\\alpha}, \\  B + \\sqrt{\\mu} \\sqrt{\\alpha}\\right]$"
      ],
      "text/plain": [
       "⎡      _____           _____   ⎤\n",
       "⎣B - ╲╱ \\mu ⋅√α, B + ╲╱ \\mu ⋅√α⎦"
      ]
     },
     "execution_count": 133,
     "metadata": {},
     "output_type": "execute_result"
    }
   ],
   "source": [
    "# Determine the equilibrium condition\n",
    "eqn = (w - tau).subs(*ident_d_q).subs(*ident_R)\n",
    "w_eq_solns = solve(eqn, w)\n",
    "w_eq_solns"
   ]
  },
  {
   "cell_type": "code",
   "execution_count": 134,
   "metadata": {},
   "outputs": [
    {
     "data": {
      "image/png": "[encoded data removed]",
      "text/latex": [
       "$\\displaystyle B + \\sqrt{\\mu} \\sqrt{\\alpha}$"
      ],
      "text/plain": [
       "      _____   \n",
       "B + ╲╱ \\mu ⋅√α"
      ]
     },
     "execution_count": 134,
     "metadata": {},
     "output_type": "execute_result"
    }
   ],
   "source": [
    "# Note: We can ignore solutions where w_eq < B since ident_R and ident_d_q don't apply when w < B\n",
    "w_eq = w_eq_solns[1]\n",
    "w_eq"
   ]
  },
  {
   "cell_type": "markdown",
   "metadata": {},
   "source": [
    "### Sensitivity Analysis\n",
    "One challenge is that we need to measure queuing delay quite precisely. Let us study how mcuh an error in estimating $d_q$ affects the sending rate ($w/R$)"
   ]
  },
  {
   "cell_type": "code",
   "execution_count": 143,
   "metadata": {},
   "outputs": [
    {
     "data": {
      "image/png": "[encoded data removed]",
      "text/latex": [
       "$\\displaystyle - \\frac{2 \\alpha}{d_{q}^{3}}$"
      ],
      "text/plain": [
       "-2⋅α \n",
       "─────\n",
       "    3\n",
       " d_q "
      ]
     },
     "execution_count": 143,
     "metadata": {},
     "output_type": "execute_result"
    }
   ],
   "source": [
    "dtau_ddq = simplify(diff(tau/R, d_q))\n",
    "dtau_ddq"
   ]
  },
  {
   "cell_type": "code",
   "execution_count": 144,
   "metadata": {},
   "outputs": [
    {
     "data": {
      "image/png": "[encoded data removed]",
      "text/latex": [
       "$\\displaystyle - \\frac{2 \\mu^{\\frac{3}{2}}}{\\sqrt{\\alpha}}$"
      ],
      "text/plain": [
       "      3/2 \n",
       "-2⋅\\mu    \n",
       "──────────\n",
       "    √α    "
      ]
     },
     "execution_count": 144,
     "metadata": {},
     "output_type": "execute_result"
    }
   ],
   "source": [
    "# Find the value at equilibrium\n",
    "dtau_ddq.subs(d_q, (w_eq - B) / mu)"
   ]
  },
  {
   "cell_type": "markdown",
   "metadata": {},
   "source": [
    "In Copa, $\\frac{\\mathrm{d} \\tau}{\\mathrm{d} d_q} = -\\frac{\\mu^2}{\\alpha}$ at equilibrium, which is higher than here. Hence it is more sensitive. Decreasing sensitivity will help improve robustness to measurement error. Additionally, one problem was that if the equilibrium queuing delay is less than the least-count of our measurement, Copa severely under-utilizes the link. Maintaining more packets at equilibirum reduces the severity of this problem"
   ]
  },
  {
   "cell_type": "markdown",
   "metadata": {},
   "source": [
    "### Stability analysis\n",
    "Apply the stability condition to our equilibrium"
   ]
  },
  {
   "cell_type": "code",
   "execution_count": 145,
   "metadata": {},
   "outputs": [
    {
     "data": {
      "image/png": "[encoded data removed]",
      "text/latex": [
       "$\\displaystyle \\frac{\\mu \\alpha \\left(B + w\\right)}{\\left(B - w\\right)^{3}}$"
      ],
      "text/plain": [
       "\\mu⋅α⋅(B + w)\n",
       "─────────────\n",
       "          3  \n",
       "   (B - w)   "
      ]
     },
     "execution_count": 145,
     "metadata": {},
     "output_type": "execute_result"
    }
   ],
   "source": [
    "# Differentiate tau w.r.t w\n",
    "dtau_dw = diff(tau.subs(*ident_d_q).subs(*ident_R), w)\n",
    "simplify(dtau_dw)"
   ]
  },
  {
   "cell_type": "code",
   "execution_count": 146,
   "metadata": {},
   "outputs": [
    {
     "data": {
      "image/png": "[encoded data removed]",
      "text/latex": [
       "$\\displaystyle - \\frac{2 B}{\\sqrt{\\mu} \\sqrt{\\alpha}} - 1$"
      ],
      "text/plain": [
       "     2⋅B        \n",
       "- ────────── - 1\n",
       "    _____       \n",
       "  ╲╱ \\mu ⋅√α    "
      ]
     },
     "execution_count": 146,
     "metadata": {},
     "output_type": "execute_result"
    }
   ],
   "source": [
    "# Substitute w_eq and simplify\n",
    "dtau_dw__eq = simplify(dtau_dw.subs(w, w_eq))\n",
    "dtau_dw__eq"
   ]
  },
  {
   "cell_type": "code",
   "execution_count": 147,
   "metadata": {},
   "outputs": [
    {
     "data": {
      "image/png": "[encoded data removed]",
      "text/latex": [
       "$\\displaystyle \\left(1 - \\beta\\right) \\left(- \\frac{2 B}{\\sqrt{\\mu} \\sqrt{\\alpha}} - 2\\right)$"
      ],
      "text/plain": [
       "        ⎛     2⋅B        ⎞\n",
       "(1 - β)⋅⎜- ────────── - 2⎟\n",
       "        ⎜    _____       ⎟\n",
       "        ⎝  ╲╱ \\mu ⋅√α    ⎠"
      ]
     },
     "execution_count": 147,
     "metadata": {},
     "output_type": "execute_result"
    }
   ],
   "source": [
    "# In the stability condition, the following quantity must be < 0 and > -pi/2\n",
    "stab = (1 - beta) * (dtau_dw__eq - 1)\n",
    "stab"
   ]
  },
  {
   "cell_type": "code",
   "execution_count": 148,
   "metadata": {},
   "outputs": [
    {
     "data": {
      "image/png": "[encoded data removed]",
      "text/latex": [
       "$\\displaystyle \\left[ \\frac{B - \\frac{\\pi \\sqrt{\\mu} \\sqrt{\\alpha}}{4} + \\sqrt{\\mu} \\sqrt{\\alpha}}{B + \\sqrt{\\mu} \\sqrt{\\alpha}}\\right]$"
      ],
      "text/plain": [
       "⎡        _____                ⎤\n",
       "⎢    π⋅╲╱ \\mu ⋅√α     _____   ⎥\n",
       "⎢B - ──────────── + ╲╱ \\mu ⋅√α⎥\n",
       "⎢         4                   ⎥\n",
       "⎢─────────────────────────────⎥\n",
       "⎢              _____          ⎥\n",
       "⎣        B + ╲╱ \\mu ⋅√α       ⎦"
      ]
     },
     "execution_count": 148,
     "metadata": {},
     "output_type": "execute_result"
    }
   ],
   "source": [
    "# Solve beta for stability\n",
    "beta_solns = solve(stab + pi/2, beta)\n",
    "beta_soln = beta_solns[0]\n",
    "beta_solns"
   ]
  },
  {
   "cell_type": "markdown",
   "metadata": {},
   "source": [
    "Simplifying this manually, we get\n",
    "\n",
    "$$ \\beta = 1 - \\frac{\\pi}{4}\\frac{\\sqrt{\\mu\\alpha}}{B + \\sqrt{\\mu\\alpha}} $$\n",
    "\n",
    "At equilibrium, $\\beta = 1 - \\frac{\\pi}{4}\\frac{d_q}{R}$. However, we shouldn't use this to determine $\\beta$, since $d_q = 0$ (and $\\beta = 1$) when the link isn't fully utilized, and the algorithm will never get to the equilibrium.\n",
    "\n",
    "Instead, we substitute $B = \\mu R_m$ and use the current estimate of $\\mu$ to determine $\\beta$. Then we get:\n",
    "\n",
    "$$\\beta = 1 - \\frac{\\pi}{4}\\frac{\\sqrt{\\alpha}}{\\sqrt{\\mu}R_m + \\sqrt{\\alpha}} $$\n",
    "\n",
    "This starts out moving quickly toward equilibirum and then slows down as it gets closer. It is slower (and hence more careful) for larger $R_m$. This behavior is intuitively satisfying."
   ]
  },
  {
   "cell_type": "code",
   "execution_count": null,
   "metadata": {},
   "outputs": [],
   "source": []
  }
 ],
 "metadata": {
  "kernelspec": {
   "display_name": "Python 3",
   "language": "python",
   "name": "python3"
  },
  "language_info": {
   "codemirror_mode": {
    "name": "ipython",
    "version": 3
   },
   "file_extension": ".py",
   "mimetype": "text/x-python",
   "name": "python",
   "nbconvert_exporter": "python",
   "pygments_lexer": "ipython3",
   "version": "3.7.4"
  }
 },
 "nbformat": 4,
 "nbformat_minor": 2
}
